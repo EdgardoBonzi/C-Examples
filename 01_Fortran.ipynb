{
  "nbformat": 4,
  "nbformat_minor": 0,
  "metadata": {
    "colab": {
      "name": "01_Fortran.ipynb",
      "provenance": [],
      "toc_visible": true,
      "authorship_tag": "ABX9TyPSMKRJpRQrpXeeqKxVQ4hR",
      "include_colab_link": true
    },
    "kernelspec": {
      "name": "python3",
      "display_name": "Python 3"
    },
    "language_info": {
      "name": "python"
    }
  },
  "cells": [
    {
      "cell_type": "markdown",
      "metadata": {
        "id": "view-in-github",
        "colab_type": "text"
      },
      "source": [
        "<a href=\"https://colab.research.google.com/github/EdgardoBonzi/C-Examples/blob/main/01_Fortran.ipynb\" target=\"_parent\"><img src=\"https://colab.research.google.com/assets/colab-badge.svg\" alt=\"Open In Colab\"/></a>"
      ]
    },
    {
      "cell_type": "markdown",
      "source": [
        "# 01 FORTRAN\n",
        "## Programación en FORTRAN"
      ],
      "metadata": {
        "id": "xKBcZCy3pMSF"
      }
    },
    {
      "cell_type": "code",
      "execution_count": null,
      "metadata": {
        "id": "lQ_d4E8uAl-i"
      },
      "outputs": [],
      "source": [
        ""
      ]
    },
    {
      "cell_type": "markdown",
      "source": [
        ""
      ],
      "metadata": {
        "id": "WsNN-LaxAnbp"
      }
    },
    {
      "cell_type": "code",
      "source": [
        ""
      ],
      "metadata": {
        "id": "PHgSzpcDpby5"
      },
      "execution_count": null,
      "outputs": []
    },
    {
      "cell_type": "code",
      "source": [
        "%%writefile testingInt.f90\n",
        "!==================================================\n",
        "! Copyright © 2022 My House\n",
        "!\n",
        "! program name : Hello.f90\n",
        "!               Edgardo BONZI\n",
        "!               edgardobonzi@gmail.com\n",
        "!                 version 0.0\n",
        "!                 2022/02/16\n",
        "!\n",
        "! SPDX-License-Identifier: Apa Che\n",
        "! ==================================================\n",
        "\n",
        "program testingInt\n",
        "implicit none\n",
        "\n",
        "   !two byte integer\n",
        "   integer(kind = 2) :: shortval\n",
        "   \n",
        "   !four byte integer\n",
        "   integer(kind = 4) :: longval\n",
        "   \n",
        "   !eight byte integer\n",
        "   integer(kind = 8) :: verylongval\n",
        "   \n",
        "   !sixteen byte integer\n",
        "   integer(kind = 16) :: veryverylongval\n",
        "   \n",
        "   !default integer \n",
        "   integer :: defval\n",
        "        \n",
        "   print *, huge(shortval)\n",
        "   print *, huge(longval)\n",
        "   print *, huge(verylongval)\n",
        "   print *, huge(veryverylongval)\n",
        "   print *, huge(defval)\n",
        "   \n",
        "end program testingInt\n"
      ],
      "metadata": {
        "colab": {
          "base_uri": "https://localhost:8080/"
        },
        "id": "XTfMbcrVAn3Z",
        "outputId": "de21af8f-f743-4ffd-9392-e85d06afe6ca"
      },
      "execution_count": null,
      "outputs": [
        {
          "output_type": "stream",
          "name": "stdout",
          "text": [
            "Overwriting testingInt.f90\n"
          ]
        }
      ]
    },
    {
      "cell_type": "code",
      "source": [
        "!gfortran testingInt.f90 -o testingInt.x\n"
      ],
      "metadata": {
        "id": "YInz8A0IA4te"
      },
      "execution_count": null,
      "outputs": []
    },
    {
      "cell_type": "code",
      "source": [
        "!./testingInt.x"
      ],
      "metadata": {
        "colab": {
          "base_uri": "https://localhost:8080/"
        },
        "id": "SAcE2qnoBUYv",
        "outputId": "cdb153fb-2f77-4dad-8c77-7341dd8e3996"
      },
      "execution_count": null,
      "outputs": [
        {
          "output_type": "stream",
          "name": "stdout",
          "text": [
            "  32767\n",
            "  2147483647\n",
            "  9223372036854775807\n",
            " 170141183460469231731687303715884105727\n",
            "  2147483647\n"
          ]
        }
      ]
    }
  ]
}