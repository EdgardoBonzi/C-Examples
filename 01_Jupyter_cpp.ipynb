{
  "nbformat": 4,
  "nbformat_minor": 0,
  "metadata": {
    "colab": {
      "name": "01_cpp.ipynb",
      "provenance": [],
      "collapsed_sections": [],
      "toc_visible": true,
      "authorship_tag": "ABX9TyOFzXT0EzQ3q29yBRTCr4/j",
      "include_colab_link": true
    },
    "kernelspec": {
      "name": "python3",
      "display_name": "Python 3"
    },
    "language_info": {
      "name": "python"
    }
  },
  "cells": [
    {
      "cell_type": "markdown",
      "metadata": {
        "id": "view-in-github",
        "colab_type": "text"
      },
      "source": [
        "<a href=\"https://colab.research.google.com/github/EdgardoBonzi/C-Examples/blob/main/01_cpp.ipynb\" target=\"_parent\"><img src=\"https://colab.research.google.com/assets/colab-badge.svg\" alt=\"Open In Colab\"/></a>"
      ]
    },
    {
      "cell_type": "code",
      "execution_count": null,
      "metadata": {
        "id": "HGDGJCHjtN8R"
      },
      "outputs": [],
      "source": [
        ""
      ]
    },
    {
      "cell_type": "markdown",
      "source": [
        "# c++\n",
        "En este notebook haremos unos primeros ejemplos de programación en c++"
      ],
      "metadata": {
        "id": "jkf170TvuL4V"
      }
    },
    {
      "cell_type": "markdown",
      "source": [
        ""
      ],
      "metadata": {
        "id": "foA25MHeuOdt"
      }
    },
    {
      "cell_type": "code",
      "source": [
        "!g++ --version"
      ],
      "metadata": {
        "colab": {
          "base_uri": "https://localhost:8080/"
        },
        "id": "P6wR6P6rt8-1",
        "outputId": "cf845ace-4c1d-44bc-b198-183b89c64efe"
      },
      "execution_count": 6,
      "outputs": [
        {
          "output_type": "stream",
          "name": "stdout",
          "text": [
            "g++ (Ubuntu 7.5.0-3ubuntu1~18.04) 7.5.0\n",
            "Copyright (C) 2017 Free Software Foundation, Inc.\n",
            "This is free software; see the source for copying conditions.  There is NO\n",
            "warranty; not even for MERCHANTABILITY or FITNESS FOR A PARTICULAR PURPOSE.\n",
            "\n"
          ]
        }
      ]
    },
    {
      "cell_type": "code",
      "source": [
        "%%writefile Example001.cpp\n",
        "/* ==================================================\n",
        "  Copyright © 2022 My House\n",
        "\n",
        "  program name : Example001.cpp\n",
        "\n",
        "    First example of c++ program\n",
        "\n",
        "                Edgardo BONZI\n",
        "                edgardobonzi@gmail.com\n",
        "                   version 0.0\n",
        "                   2022/02/22\n",
        " \n",
        "  SPDX-License-Identifier: Apa Che\n",
        "================================================== */\n",
        "\n",
        "# include <iostream>\n",
        "\n",
        "using namespace std; // With this library we can use the chevrons \"<<\" to write\n",
        "\n",
        "// main() is where program execution begins.\n",
        "\n",
        "int main(int argc, char const *argv[])\n",
        "{\n",
        "\t/* code */\n",
        "\tcout << \"Hello World \\n\"; // print Hello World and write a Enter\n",
        "\treturn 0;\n",
        "}\n"
      ],
      "metadata": {
        "colab": {
          "base_uri": "https://localhost:8080/"
        },
        "id": "JhAfb1QwtUE3",
        "outputId": "d3217942-007b-4371-eda1-97488e4e20e6"
      },
      "execution_count": 19,
      "outputs": [
        {
          "output_type": "stream",
          "name": "stdout",
          "text": [
            "Overwriting Example001.cpp\n"
          ]
        }
      ]
    },
    {
      "cell_type": "code",
      "source": [
        "!ls"
      ],
      "metadata": {
        "colab": {
          "base_uri": "https://localhost:8080/"
        },
        "id": "llRIXVEitoQI",
        "outputId": "e20c3856-86b7-4695-e031-56f190587e47"
      },
      "execution_count": 10,
      "outputs": [
        {
          "output_type": "stream",
          "name": "stdout",
          "text": [
            "Example001.cpp\tExample001.x  sample_data\n"
          ]
        }
      ]
    },
    {
      "cell_type": "code",
      "source": [
        "!cat Example001.cpp"
      ],
      "metadata": {
        "colab": {
          "base_uri": "https://localhost:8080/"
        },
        "id": "s38quBrGtqLc",
        "outputId": "cb0646b5-5da1-4733-a8b4-a01e7f8629d4"
      },
      "execution_count": 20,
      "outputs": [
        {
          "output_type": "stream",
          "name": "stdout",
          "text": [
            "/* ==================================================\n",
            "  Copyright © 2022 My House\n",
            "\n",
            "  program name : Example001.cpp\n",
            "\n",
            "    First example of c++ program\n",
            "\n",
            "                Edgardo BONZI\n",
            "                edgardobonzi@gmail.com\n",
            "                   version 0.0\n",
            "                   2022/02/22\n",
            " \n",
            "  SPDX-License-Identifier: Apa Che\n",
            "================================================== */\n",
            "\n",
            "# include <iostream>\n",
            "\n",
            "using namespace std; // With this library we can use the chevrons \"<<\" to write\n",
            "\n",
            "// main() is where program execution begins.\n",
            "\n",
            "int main(int argc, char const *argv[])\n",
            "{\n",
            "\t/* code */\n",
            "\tcout << \"Hello World \\n\"; // print Hello World and write a Enter\n",
            "\treturn 0;\n",
            "}"
          ]
        }
      ]
    },
    {
      "cell_type": "code",
      "source": [
        "! g++ Example001.cpp -o Example001.x  "
      ],
      "metadata": {
        "id": "tqrJo3kyturB"
      },
      "execution_count": 16,
      "outputs": []
    },
    {
      "cell_type": "code",
      "source": [
        "! ./Example001.x"
      ],
      "metadata": {
        "colab": {
          "base_uri": "https://localhost:8080/"
        },
        "id": "CPB-Nv0ZuBcj",
        "outputId": "030d37e9-0a20-4602-d13d-1f33dcd07dc5"
      },
      "execution_count": 17,
      "outputs": [
        {
          "output_type": "stream",
          "name": "stdout",
          "text": [
            "Hello World \n"
          ]
        }
      ]
    },
    {
      "cell_type": "code",
      "source": [
        ""
      ],
      "metadata": {
        "id": "CMP0TIGtuJQn"
      },
      "execution_count": null,
      "outputs": []
    },
    {
      "cell_type": "markdown",
      "source": [
        "Ahora haremos un sefundo ejemplo"
      ],
      "metadata": {
        "id": "6w7q6Qb2vnkz"
      }
    },
    {
      "cell_type": "code",
      "source": [
        "%%writefile Example002.cpp\n",
        "/* ==================================================\n",
        "  Copyright © 2022 My House\n",
        "\n",
        "  program name : Example002.cpp\n",
        "\n",
        "    An example of c++ program to see the size of type\n",
        "\n",
        "                Edgardo BONZI\n",
        "                edgardobonzi@gmail.com\n",
        "                   version 0.0\n",
        "                   2022/02/22\n",
        " \n",
        "  SPDX-License-Identifier: Apa Che\n",
        "================================================== */\n",
        "# include <iostream>\n",
        "\n",
        "using namespace std;\n",
        "\n",
        "int main(int argc, char const *argv[])\n",
        "{\n",
        "\t/* code */\n",
        " //  system(\"clear\"); //  function \"CLS\" (CLear Screen) clean the Screen,but here include a H character\n",
        "\n",
        "   cout << \"Size of char : \" << sizeof(char) << \" byte\" << endl;\n",
        "   cout << \"Size of int  : \" << sizeof(int) << \" bytes\"<< endl;\n",
        "   cout << \"Size of short int : \" << sizeof(short int) << \" bytes\"<< endl;\n",
        "   cout << \"Size of long int  : \" << sizeof(long int) << \" bytes\"<< endl;\n",
        "   cout << \"Size of float     : \" << sizeof(float) << \" bytes\"<< endl;\n",
        "   cout << \"Size of double  : \" << sizeof(double) << \" bytes\"<< endl;\n",
        "   cout << \"Size of wchar_t : \" << sizeof(wchar_t) << \" bytes\"<< endl;\n",
        "\n",
        "\n",
        "\treturn 0;\n",
        "}"
      ],
      "metadata": {
        "colab": {
          "base_uri": "https://localhost:8080/"
        },
        "id": "Tb1qf4DXuJq9",
        "outputId": "7804ff03-de07-4e22-9d91-1be5ae7f099d"
      },
      "execution_count": 57,
      "outputs": [
        {
          "output_type": "stream",
          "name": "stdout",
          "text": [
            "Overwriting Example002.cpp\n"
          ]
        }
      ]
    },
    {
      "cell_type": "code",
      "source": [
        "! g++ Example002.cpp -o Example002.x  "
      ],
      "metadata": {
        "id": "m8fTLTI2wKIi"
      },
      "execution_count": 35,
      "outputs": []
    },
    {
      "cell_type": "code",
      "source": [
        "!./Example002.x"
      ],
      "metadata": {
        "colab": {
          "base_uri": "https://localhost:8080/"
        },
        "id": "XIzbynDnwNW1",
        "outputId": "c3f6a573-f75d-4774-bb74-a0ed6305de85"
      },
      "execution_count": 36,
      "outputs": [
        {
          "output_type": "stream",
          "name": "stdout",
          "text": [
            "Size of char : 1 byte\n",
            "Size of int  : 4 bytes\n",
            "Size of short int : 2 bytes\n",
            "Size of long int  : 8 bytes\n",
            "Size of float     : 4 bytes\n",
            "Size of double  : 8 bytes\n",
            "Size of wchar_t : 4 bytes\n"
          ]
        }
      ]
    },
    {
      "cell_type": "markdown",
      "source": [
        ""
      ],
      "metadata": {
        "id": "FNS4EsBpw__9"
      }
    },
    {
      "cell_type": "code",
      "source": [
        "%%writefile Example003.cpp\n",
        "/* ==================================================\n",
        "  Copyright © 2022 My House\n",
        "\n",
        "  program name : Example003.cpp\n",
        "\n",
        "    An example of boolena in c++\n",
        "\n",
        "                Edgardo BONZI\n",
        "                edgardobonzi@gmail.com\n",
        "                   version 0.0\n",
        "                   2022/02/22\n",
        " \n",
        "  SPDX-License-Identifier: Apa Che\n",
        "================================================== */\n",
        "\n",
        "#include <iostream>\n",
        "\n",
        "using namespace std;\n",
        "\n",
        "bool test = true; //false; //true;\n",
        "\n",
        "int main(int argc, char const *argv[])\n",
        "{\n",
        "\t/* code */\n",
        "  // system(\"clear\");\n",
        "\n",
        "if (test){\n",
        "\tcout << \"Funciona \\n\";\n",
        "    cout << \"Test :\" << test << \"\\n\";\n",
        "}\n",
        "else{\n",
        "\tcout << \"no Funciona \\n\";\n",
        "}\n",
        "\treturn 0;\n",
        "}\n"
      ],
      "metadata": {
        "colab": {
          "base_uri": "https://localhost:8080/"
        },
        "id": "_Z-QexQ9xAZo",
        "outputId": "54c04a65-3e4f-4276-dc24-7b2ccf316ce0"
      },
      "execution_count": 56,
      "outputs": [
        {
          "output_type": "stream",
          "name": "stdout",
          "text": [
            "Overwriting Example003.cpp\n"
          ]
        }
      ]
    },
    {
      "cell_type": "code",
      "source": [
        "! c++ Example003.cpp -o Example003.x"
      ],
      "metadata": {
        "id": "JduZazchxR26"
      },
      "execution_count": 41,
      "outputs": []
    },
    {
      "cell_type": "code",
      "source": [
        "! ./Example003.x"
      ],
      "metadata": {
        "colab": {
          "base_uri": "https://localhost:8080/"
        },
        "id": "IIMP4D9TxXER",
        "outputId": "a581dbf9-7973-44d0-f35c-ba2881dc7b3a"
      },
      "execution_count": 42,
      "outputs": [
        {
          "output_type": "stream",
          "name": "stdout",
          "text": [
            "Funciona \n",
            "Test :1\n"
          ]
        }
      ]
    },
    {
      "cell_type": "markdown",
      "source": [
        ""
      ],
      "metadata": {
        "id": "nXNiIbI1xgoP"
      }
    },
    {
      "cell_type": "code",
      "source": [
        "%%writefile Example004.cpp\n",
        "/* ==================================================\n",
        "  Copyright © 2022 My House\n",
        "\n",
        "  program name : Example004.cpp\n",
        "\n",
        "    An example of c++ program to write out values\n",
        "\n",
        "                Edgardo BONZI\n",
        "                edgardobonzi@gmail.com\n",
        "                   version 0.0\n",
        "                   2022/02/22\n",
        " \n",
        "  SPDX-License-Identifier: Apa Che\n",
        "================================================== */\n",
        "\n",
        "# include <iostream>\n",
        "\n",
        "using namespace std;\n",
        "\n",
        "// Variable declaration\n",
        "extern int a, b;\n",
        "extern int c;\n",
        "extern float f;\n",
        "\n",
        "int main(int argc, char const *argv[])\n",
        "{\n",
        "\t/* code */\n",
        " //\tsystem(\"clear\");\n",
        "\n",
        "    int a, b;\n",
        "    int c;\n",
        "    float f;\n",
        "\n",
        "// actual initialization\n",
        "    a = 10;\n",
        "    b = 20;\n",
        "    c = a + b;\n",
        "    cout << \"c value is \" << c << endl;\n",
        "\n",
        "    f = (a + b)/7.0;\n",
        "\n",
        "    cout << \"f value is \" << f << endl;\n",
        "    \n",
        "\n",
        "\treturn 0;\n",
        "}"
      ],
      "metadata": {
        "colab": {
          "base_uri": "https://localhost:8080/"
        },
        "id": "hpfbNaaLxhD_",
        "outputId": "4ceff1fa-9b0e-43ef-a6d8-759fd0dd4d69"
      },
      "execution_count": 55,
      "outputs": [
        {
          "output_type": "stream",
          "name": "stdout",
          "text": [
            "Overwriting Example004.cpp\n"
          ]
        }
      ]
    },
    {
      "cell_type": "code",
      "source": [
        "! c++ Example004.cpp -o Example004.x"
      ],
      "metadata": {
        "id": "PupbiG6fxzjd"
      },
      "execution_count": 48,
      "outputs": []
    },
    {
      "cell_type": "code",
      "source": [
        "! ./Example004.x"
      ],
      "metadata": {
        "colab": {
          "base_uri": "https://localhost:8080/"
        },
        "id": "qIj20i1Tx3Mp",
        "outputId": "9c41af7e-84e4-4445-9b7a-0c6bac79b59a"
      },
      "execution_count": 49,
      "outputs": [
        {
          "output_type": "stream",
          "name": "stdout",
          "text": [
            "c value is 30\n",
            "f value is 4.28571\n"
          ]
        }
      ]
    },
    {
      "cell_type": "code",
      "source": [
        ""
      ],
      "metadata": {
        "id": "ZWsRuNj_3bqD"
      },
      "execution_count": null,
      "outputs": []
    },
    {
      "cell_type": "markdown",
      "source": [
        ""
      ],
      "metadata": {
        "id": "dzmOXoBN3cN8"
      }
    },
    {
      "cell_type": "code",
      "source": [
        "%%writefile Example005.cpp\n",
        "/* ==================================================\n",
        "  Copyright © 2022 My House\n",
        "\n",
        "  program name : Example005.cpp\n",
        "\n",
        "    An example of integer and unsigned integer in c++\n",
        "\n",
        "                Edgardo BONZI\n",
        "                edgardobonzi@gmail.com\n",
        "                   version 0.0\n",
        "                   2022/02/22\n",
        " \n",
        "  SPDX-License-Identifier: Apa Che\n",
        "================================================== */\n",
        "\n",
        "#include <iostream>\n",
        "\n",
        "using namespace std;\n",
        "\n",
        "int main(int argc, char const *argv[])\n",
        "{\n",
        "\n",
        "    short int i;\n",
        "    short unsigned int j;\n",
        "    j = 50000;\n",
        "    i = j;\n",
        "\n",
        "    cout << i << \" \" << j;\n",
        "\n",
        "\n",
        "\n",
        "\treturn 0;\n",
        "}\n"
      ],
      "metadata": {
        "colab": {
          "base_uri": "https://localhost:8080/"
        },
        "id": "bh7pRTa73cr7",
        "outputId": "ba6f2b25-11c8-4913-d4a3-6170500f826e"
      },
      "execution_count": 54,
      "outputs": [
        {
          "output_type": "stream",
          "name": "stdout",
          "text": [
            "Overwriting Example005.cpp\n"
          ]
        }
      ]
    },
    {
      "cell_type": "code",
      "source": [
        "!g++ Example005.cpp -o Example005.x"
      ],
      "metadata": {
        "id": "rBKGMwLk3z_w"
      },
      "execution_count": 52,
      "outputs": []
    },
    {
      "cell_type": "code",
      "source": [
        "!./Example005.x"
      ],
      "metadata": {
        "colab": {
          "base_uri": "https://localhost:8080/"
        },
        "id": "IE0vyCLw33uG",
        "outputId": "807fc6dd-8e84-4ed3-9af4-8705649283e9"
      },
      "execution_count": 53,
      "outputs": [
        {
          "output_type": "stream",
          "name": "stdout",
          "text": [
            "-15536 50000"
          ]
        }
      ]
    },
    {
      "cell_type": "markdown",
      "source": [
        ""
      ],
      "metadata": {
        "id": "D4upDMam4CbQ"
      }
    },
    {
      "cell_type": "code",
      "source": [
        "%%writefile Example006.cpp\n",
        "/* ==================================================\n",
        "  Copyright © 2022 My House\n",
        "\n",
        "  program name : Example006.cpp\n",
        "\n",
        "    An example of function in c++\n",
        "\n",
        "                Edgardo BONZI\n",
        "                edgardobonzi@gmail.com\n",
        "                   version 0.0\n",
        "                   2022/02/22\n",
        " \n",
        "  SPDX-License-Identifier: Apa Che\n",
        "================================================== */\n",
        "\n",
        "#include <iostream>\n",
        "\n",
        "using namespace std;\n",
        "\n",
        "// Function declaration\n",
        "void func(void);\n",
        " \n",
        "static int count = 10; /* Global variable */\n",
        "\n",
        "int main(int argc, char const *argv[])\n",
        "{\n",
        "\n",
        "   while(count--) {\n",
        "     func();\n",
        " \n",
        " //   cout << \"count :\" << count << endl;\n",
        "\n",
        "   }\n",
        "\n",
        "\n",
        "\n",
        "\n",
        "\treturn 0;\n",
        "}\n",
        "\n",
        "// Function definition\n",
        "void func( void ) {\n",
        "   static int i = 5; // local static variable\n",
        "   i++;\n",
        "   std::cout << \"i is \" << i ;\n",
        "   std::cout << \" and count is \" << count << std::endl;\n",
        "}"
      ],
      "metadata": {
        "colab": {
          "base_uri": "https://localhost:8080/"
        },
        "id": "pPFLBSVk4Crd",
        "outputId": "0253dc52-6eb9-4e5e-d9e1-90ff92783039"
      },
      "execution_count": 67,
      "outputs": [
        {
          "output_type": "stream",
          "name": "stdout",
          "text": [
            "Overwriting Example006.cpp\n"
          ]
        }
      ]
    },
    {
      "cell_type": "code",
      "source": [
        "!g++ Example006.cpp -o Example006.x"
      ],
      "metadata": {
        "id": "fcJHcNdo4mmL"
      },
      "execution_count": 68,
      "outputs": []
    },
    {
      "cell_type": "code",
      "source": [
        "!./Example006.x"
      ],
      "metadata": {
        "colab": {
          "base_uri": "https://localhost:8080/"
        },
        "id": "-SDiNNp54q-Z",
        "outputId": "f277197d-60f9-45ee-bea9-bc19d4b20eaf"
      },
      "execution_count": 69,
      "outputs": [
        {
          "output_type": "stream",
          "name": "stdout",
          "text": [
            "i is 6 and count is 9\n",
            "i is 7 and count is 8\n",
            "i is 8 and count is 7\n",
            "i is 9 and count is 6\n",
            "i is 10 and count is 5\n",
            "i is 11 and count is 4\n",
            "i is 12 and count is 3\n",
            "i is 13 and count is 2\n",
            "i is 14 and count is 1\n",
            "i is 15 and count is 0\n"
          ]
        }
      ]
    },
    {
      "cell_type": "code",
      "source": [
        ""
      ],
      "metadata": {
        "id": "bgO2yqJd5E92"
      },
      "execution_count": null,
      "outputs": []
    },
    {
      "cell_type": "markdown",
      "source": [
        ""
      ],
      "metadata": {
        "id": "C4s_ELPj5F1x"
      }
    },
    {
      "cell_type": "code",
      "source": [
        "%%writefile support.cpp\n",
        "/* ==================================================\n",
        "  Copyright © 2022 My House\n",
        "\n",
        "  program name : support.cpp\n",
        "\n",
        "    An example of external function in c++\n",
        "\n",
        "                Edgardo BONZI\n",
        "                edgardobonzi@gmail.com\n",
        "                   version 0.0\n",
        "                   2022/02/22\n",
        " \n",
        "  SPDX-License-Identifier: Apa Che\n",
        "================================================== */\n",
        "\n",
        "// support.cpp\n",
        "\n",
        "# include <iostream>\n",
        "\n",
        "using namespace std;\n",
        "\n",
        "extern int count;\n",
        "\n",
        "void write_extern(void){\n",
        "\n",
        "\tcout << \"Count is \" << count << endl;\n",
        "}"
      ],
      "metadata": {
        "colab": {
          "base_uri": "https://localhost:8080/"
        },
        "id": "-Z_kFjNh5snj",
        "outputId": "55385229-479c-499b-ded2-04f0ed6e8579"
      },
      "execution_count": 72,
      "outputs": [
        {
          "output_type": "stream",
          "name": "stdout",
          "text": [
            "Writing support.cpp\n"
          ]
        }
      ]
    },
    {
      "cell_type": "code",
      "source": [
        "%%writefile Example007.cpp\n",
        "/* ==================================================\n",
        "  Copyright © 2022 My House\n",
        "\n",
        "  program name : Example007.cpp\n",
        "\n",
        "    An example of external function in c++\n",
        "\n",
        "                Edgardo BONZI\n",
        "                edgardobonzi@gmail.com\n",
        "                   version 0.0\n",
        "                   2022/02/22\n",
        " \n",
        "  SPDX-License-Identifier: Apa Che\n",
        "================================================== */\n",
        "\n",
        "# include <iostream>\n",
        "# include \"support.cpp\"   // here we include the external function\n",
        "\n",
        "using namespace std;\n",
        "int count;\n",
        "extern void write_extern();\n",
        "\n",
        "int main(int argc, char const *argv[])\n",
        "{\n",
        "\n",
        "\tcount = 5;\n",
        "\twrite_extern();\n",
        "\n",
        "\treturn 0;\n",
        "}\n"
      ],
      "metadata": {
        "colab": {
          "base_uri": "https://localhost:8080/"
        },
        "id": "6UVqH0d35Gkq",
        "outputId": "92a80d5c-ba05-465d-da67-a5c646934a47"
      },
      "execution_count": 77,
      "outputs": [
        {
          "output_type": "stream",
          "name": "stdout",
          "text": [
            "Overwriting Example007.cpp\n"
          ]
        }
      ]
    },
    {
      "cell_type": "code",
      "source": [
        "!g++ Example007.cpp -o Example007.x"
      ],
      "metadata": {
        "id": "vLKI99ER5cEm"
      },
      "execution_count": 78,
      "outputs": []
    },
    {
      "cell_type": "code",
      "source": [
        "!./Example007.x"
      ],
      "metadata": {
        "colab": {
          "base_uri": "https://localhost:8080/"
        },
        "id": "smnRMJ4N5fHM",
        "outputId": "afa320ab-e414-40b2-e972-0dd039085ef3"
      },
      "execution_count": 79,
      "outputs": [
        {
          "output_type": "stream",
          "name": "stdout",
          "text": [
            "Count is 5\n"
          ]
        }
      ]
    },
    {
      "cell_type": "code",
      "source": [
        ""
      ],
      "metadata": {
        "id": "mjn8UERe6KBc"
      },
      "execution_count": null,
      "outputs": []
    },
    {
      "cell_type": "markdown",
      "source": [
        ""
      ],
      "metadata": {
        "id": "zxWddmAP6K7j"
      }
    },
    {
      "cell_type": "code",
      "source": [
        "%%writefile Example008.cpp\n",
        "/* ==================================================\n",
        "  Copyright © 2022 My House\n",
        "\n",
        "  program name : Example008.cpp\n",
        "\n",
        "    An example of to input external data in c++\n",
        "\n",
        "                Edgardo BONZI\n",
        "                edgardobonzi@gmail.com\n",
        "                   version 0.0\n",
        "                   2022/02/22\n",
        " \n",
        "  SPDX-License-Identifier: Apa Che\n",
        "================================================== */\n",
        "\n",
        "// Example008.cpp\n",
        "\n",
        "#include <iostream>\n",
        "\n",
        "using namespace std;\n",
        "\n",
        "/*\n",
        "\n",
        "'argc' stands for argument count and 'argv' stands for argument values. \n",
        "\n",
        "These are variables passed to the main function when it starts executing. \n",
        "\n",
        "When we run a program we can give arguments to that program like −.\n",
        "\n",
        "use: $ ./Example008.x Hello People and anybody\n",
        "\n",
        "*/\n",
        "\n",
        "int main(int argc, char const *argv[])\n",
        "{\n",
        "\t/* code */\n",
        "\n",
        "\tcout << \"This program has \" << argc << \" arguments:\" << endl;\n",
        "\n",
        "\tfor (int i = 0; i < argc; ++i){\n",
        "\t\tcout << argv[i] << endl;\n",
        "\n",
        "\t}\n",
        "\n",
        "\n",
        "\treturn 0;\n",
        "}"
      ],
      "metadata": {
        "colab": {
          "base_uri": "https://localhost:8080/"
        },
        "id": "feDVGDlg6LvH",
        "outputId": "24eede1e-79c8-4b67-cbb3-321e31f979ae"
      },
      "execution_count": 80,
      "outputs": [
        {
          "output_type": "stream",
          "name": "stdout",
          "text": [
            "Writing Example008.cpp\n"
          ]
        }
      ]
    },
    {
      "cell_type": "code",
      "source": [
        "!g++ Example008.cpp -o Example008.x"
      ],
      "metadata": {
        "id": "D5R6NVm06rHh"
      },
      "execution_count": 81,
      "outputs": []
    },
    {
      "cell_type": "code",
      "source": [
        "!./Example008.x Hello People and anybody"
      ],
      "metadata": {
        "colab": {
          "base_uri": "https://localhost:8080/"
        },
        "id": "0YPYSa6z6th_",
        "outputId": "be45632b-3987-4bb2-f275-99aba2280407"
      },
      "execution_count": 82,
      "outputs": [
        {
          "output_type": "stream",
          "name": "stdout",
          "text": [
            "This program has 5 arguments:\n",
            "./Example008.x\n",
            "Hello\n",
            "People\n",
            "and\n",
            "anybody\n"
          ]
        }
      ]
    },
    {
      "cell_type": "markdown",
      "source": [
        ""
      ],
      "metadata": {
        "id": "UXCBiZ5I67AK"
      }
    },
    {
      "cell_type": "code",
      "source": [
        "%%writefile Example009.cpp\n",
        "/* ==================================================\n",
        "  Copyright © 2022 My House\n",
        "\n",
        "  program name : Example009.cpp\n",
        "\n",
        "    An example of the max internal function in c++\n",
        "\n",
        "                Edgardo BONZI\n",
        "                edgardobonzi@gmail.com\n",
        "                   version 0.0\n",
        "                   2022/02/22\n",
        " \n",
        "  SPDX-License-Identifier: Apa Che\n",
        "================================================== */\n",
        "\n",
        "// Example009\n",
        "\n",
        "#include <iostream>\n",
        "\n",
        "using namespace std;\n",
        "\n",
        "int max(int num1, int num2);\n",
        "\n",
        "int main(int argc, char const *argv[])\n",
        "{\n",
        "\t/* code */\n",
        "\n",
        "// local variable declaration\n",
        "\tint a = 10; int b = 15;\n",
        "    cout << \"El más grande es : \" << max(a, b) << endl;\n",
        "\n",
        "\treturn 0;\n",
        "}\n",
        "\n",
        "int max(int num1, int num2){\n",
        "\tint result = num1;\n",
        "\tif (num1 < num2) result = num2;\n",
        "    return result;\n",
        "}"
      ],
      "metadata": {
        "colab": {
          "base_uri": "https://localhost:8080/"
        },
        "id": "RCADuYrJ67PD",
        "outputId": "90ee8378-0566-4323-f988-dfedf21587b8"
      },
      "execution_count": 87,
      "outputs": [
        {
          "output_type": "stream",
          "name": "stdout",
          "text": [
            "Overwriting Example009.cpp\n"
          ]
        }
      ]
    },
    {
      "cell_type": "code",
      "source": [
        "!g++ Example009.cpp -o Example009.x"
      ],
      "metadata": {
        "id": "YpMrZFOl7f9r"
      },
      "execution_count": 90,
      "outputs": []
    },
    {
      "cell_type": "code",
      "source": [
        ""
      ],
      "metadata": {
        "id": "-l4g2_jm8G8c"
      },
      "execution_count": null,
      "outputs": []
    },
    {
      "cell_type": "code",
      "source": [
        "!./Example009.x"
      ],
      "metadata": {
        "colab": {
          "base_uri": "https://localhost:8080/"
        },
        "id": "p17jgyfU7paC",
        "outputId": "87a8a6a0-fd59-4681-e557-b20e2ab4efae"
      },
      "execution_count": 89,
      "outputs": [
        {
          "output_type": "stream",
          "name": "stdout",
          "text": [
            "El más grande es : 15\n"
          ]
        }
      ]
    },
    {
      "cell_type": "markdown",
      "source": [
        ""
      ],
      "metadata": {
        "id": "JFzVNCzk73Up"
      }
    },
    {
      "cell_type": "code",
      "source": [
        "%%writefile Example010.cpp\n",
        "/* ==================================================\n",
        "  Copyright © 2022 My House\n",
        "\n",
        "  program name : Example010.cpp\n",
        "\n",
        "    An example of operator '>' is overloaded in c++\n",
        "\n",
        "                Edgardo BONZI\n",
        "                edgardobonzi@gmail.com\n",
        "                   version 0.0\n",
        "                   2022/02/22\n",
        " \n",
        "  SPDX-License-Identifier: Apa Che\n",
        "================================================== */\n",
        "\n",
        "// Example010\n",
        "/*\n",
        "\n",
        "// One function works for all data types.  This would work\n",
        "// even for user defined types if operator '>' is overloaded\n",
        "\n",
        "*/\n",
        "\n",
        "#include <iostream>\n",
        "\n",
        "using namespace std;\n",
        "\n",
        "\n",
        "template <typename T>\n",
        "T myMax(T x, T y)\n",
        "{\n",
        "   return (x > y)? x: y;\n",
        "}\n",
        "\n",
        "\n",
        "int main(int argc, char const *argv[])\n",
        "{\n",
        "\t/* code */\n",
        "\n",
        "   int result = myMax<int>(3, 7);\n",
        "\n",
        " cout << myMax<int>(3, 7) << endl;  // Call myMax for int\n",
        "  cout << myMax<double>(3.0, 7.0) << endl; // call myMax for double\n",
        "  cout << myMax<char>('g', 'e') << endl;   // call myMax for char\n",
        "\treturn 0;\n",
        "}"
      ],
      "metadata": {
        "colab": {
          "base_uri": "https://localhost:8080/"
        },
        "id": "S0DSDQW173ok",
        "outputId": "297a67d3-d231-4eb8-ba05-7fe542f2e61a"
      },
      "execution_count": 96,
      "outputs": [
        {
          "output_type": "stream",
          "name": "stdout",
          "text": [
            "Overwriting Example010.cpp\n"
          ]
        }
      ]
    },
    {
      "cell_type": "code",
      "source": [
        "!g++ Example010.cpp -o Example010.x"
      ],
      "metadata": {
        "id": "12fysrmS8H88"
      },
      "execution_count": 97,
      "outputs": []
    },
    {
      "cell_type": "code",
      "source": [
        "!./Example010.x"
      ],
      "metadata": {
        "colab": {
          "base_uri": "https://localhost:8080/"
        },
        "id": "RwuiHOMm8QDA",
        "outputId": "5923c34e-b137-43ad-c95a-2e50b864a2bc"
      },
      "execution_count": 98,
      "outputs": [
        {
          "output_type": "stream",
          "name": "stdout",
          "text": [
            "7\n",
            "7\n",
            "g\n"
          ]
        }
      ]
    },
    {
      "cell_type": "markdown",
      "source": [
        ""
      ],
      "metadata": {
        "id": "bdhUrFsT8YLp"
      }
    },
    {
      "cell_type": "code",
      "source": [
        "%%writefile Example011.cpp\n",
        "/* ==================================================\n",
        "  Copyright © 2022 My House\n",
        "\n",
        "  program name : Example011.cpp\n",
        "\n",
        "    An example operator '>' is overloaded in c++\n",
        "\n",
        "                Edgardo BONZI\n",
        "                edgardobonzi@gmail.com\n",
        "                   version 0.0\n",
        "                   2022/02/22\n",
        " \n",
        "  SPDX-License-Identifier: Apa Che\n",
        "================================================== */\n",
        "\n",
        "#include <iostream>\n",
        "using namespace std;\n",
        "\n",
        "// One function works for all data types. This would work\n",
        "// even for user defined types if operator '>' is overloaded\n",
        "template <typename T>\n",
        "T myMax(T x, T y)\n",
        "{\n",
        "return (x > y)? x: y;\n",
        "}\n",
        "\n",
        "int main()\n",
        "{\n",
        "cout << myMax<int>(3, 7) << endl; // Call myMax for int\n",
        "cout << myMax<double>(3.0, 7.0) << endl; // call myMax for double\n",
        "cout << myMax<char>('g', 'e') << endl; // call myMax for char\n",
        "\n",
        "return 0;\n",
        "}"
      ],
      "metadata": {
        "colab": {
          "base_uri": "https://localhost:8080/"
        },
        "id": "LjEiVWCi8Yal",
        "outputId": "ce333a44-2ed0-4e7a-e1ff-365e3e311d81"
      },
      "execution_count": 102,
      "outputs": [
        {
          "output_type": "stream",
          "name": "stdout",
          "text": [
            "Overwriting Example011.cpp\n"
          ]
        }
      ]
    },
    {
      "cell_type": "code",
      "source": [
        "!g++ Example011.cpp -o Example011.x"
      ],
      "metadata": {
        "id": "IWmoZF7_8uNd"
      },
      "execution_count": 100,
      "outputs": []
    },
    {
      "cell_type": "code",
      "source": [
        "!./Example011.x"
      ],
      "metadata": {
        "colab": {
          "base_uri": "https://localhost:8080/"
        },
        "id": "I9tz100G8xa_",
        "outputId": "1444039c-1ce1-4d9c-d76b-43620dda7c8d"
      },
      "execution_count": 101,
      "outputs": [
        {
          "output_type": "stream",
          "name": "stdout",
          "text": [
            "7\n",
            "7\n",
            "g\n"
          ]
        }
      ]
    },
    {
      "cell_type": "markdown",
      "source": [
        ""
      ],
      "metadata": {
        "id": "LDGpE-oc9Res"
      }
    },
    {
      "cell_type": "code",
      "source": [
        "%%writefile Example012.cpp\n",
        "/* ==================================================\n",
        "  Copyright © 2022 My House\n",
        "\n",
        "  program name : Example012.cpp\n",
        "\n",
        "    More example of operator '>' is overloaded in c++\n",
        "\n",
        "                Edgardo BONZI\n",
        "                edgardobonzi@gmail.com\n",
        "                   version 0.0\n",
        "                   2022/02/22\n",
        " \n",
        "  SPDX-License-Identifier: Apa Che\n",
        "================================================== */\n",
        "\n",
        "// Example012\n",
        "/*\n",
        "\n",
        "// One function works for all data types.  This would work\n",
        "// even for user defined types if operator '>' is overloaded\n",
        "\n",
        "*/\n",
        "\n",
        "#include <iostream>\n",
        "\n",
        "using namespace std;\n",
        "\n",
        "int myMax(int x, int y)\n",
        "{\n",
        "   return (x > y)? x: y;\n",
        "}\n",
        "\n",
        "float myMax(float x, float y)\n",
        "{\n",
        "   return (x > y)? x: y;\n",
        "}\n",
        "\n",
        "double myMax(double x, double y)\n",
        "{\n",
        "   return (x > y)? x: y;\n",
        "}\n",
        "\n",
        "\n",
        "int main(int argc, char const *argv[])\n",
        "{\n",
        "\t/* code */\n",
        "\n",
        "  cout << myMax(3, 7) << endl;  // Call myMax for int\n",
        "  cout << myMax(3.0, 7.0) << endl; // call myMax for double\n",
        "  cout << myMax(3.00000, 7.0000) << endl;   // call myMax for char\n",
        "\treturn 0;\n",
        "}\n"
      ],
      "metadata": {
        "colab": {
          "base_uri": "https://localhost:8080/"
        },
        "id": "jr5XZIRy9RsF",
        "outputId": "dd4921fc-6951-43af-cb44-8127b9808d69"
      },
      "execution_count": 103,
      "outputs": [
        {
          "output_type": "stream",
          "name": "stdout",
          "text": [
            "Writing Example012.cpp\n"
          ]
        }
      ]
    },
    {
      "cell_type": "code",
      "source": [
        "!g++ Example012.cpp -o Example012.x"
      ],
      "metadata": {
        "id": "cjOeT86r9eg4"
      },
      "execution_count": 104,
      "outputs": []
    },
    {
      "cell_type": "code",
      "source": [
        "!./Example012.x"
      ],
      "metadata": {
        "colab": {
          "base_uri": "https://localhost:8080/"
        },
        "id": "pHHKueK79htD",
        "outputId": "2590b570-ca4e-44e3-fd5d-f8b2f01e9bd0"
      },
      "execution_count": 107,
      "outputs": [
        {
          "output_type": "stream",
          "name": "stdout",
          "text": [
            "7\n",
            "7\n",
            "7\n"
          ]
        }
      ]
    }
  ]
}
